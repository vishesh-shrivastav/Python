{
 "cells": [
  {
   "cell_type": "markdown",
   "metadata": {},
   "source": [
    "Download a file from an FTP server"
   ]
  },
  {
   "cell_type": "code",
   "execution_count": 1,
   "metadata": {
    "collapsed": true
   },
   "outputs": [],
   "source": [
    "from ftplib import FTP"
   ]
  },
  {
   "cell_type": "code",
   "execution_count": null,
   "metadata": {
    "collapsed": true
   },
   "outputs": [],
   "source": [
    "# Specify folder where you want to download the file\n",
    "\n",
    "target_folder = '\"C:\\\\Users\\\\Vishesh\\\\Desktop\\\\Py\"'"
   ]
  },
  {
   "cell_type": "code",
   "execution_count": null,
   "metadata": {
    "collapsed": true
   },
   "outputs": [],
   "source": [
    "#Connect to File sharing client\n",
    "\n",
    "ftp = FTP('54.XX5.1YY.1ZZ') # Enter IP Address\n",
    "ftp.login('username','password') # Should display message '230 Logged on' "
   ]
  },
  {
   "cell_type": "code",
   "execution_count": null,
   "metadata": {
    "collapsed": true
   },
   "outputs": [],
   "source": [
    "# Switch to the folder where the file to be downloaded is\n",
    "\n",
    "ftp.cwd('/Test/Folder_Name') # Should display message '250 CWD successful. \"/Test/Folder_Name\" is current directory.'"
   ]
  },
  {
   "cell_type": "code",
   "execution_count": null,
   "metadata": {
    "collapsed": true
   },
   "outputs": [],
   "source": [
    "# Assign local file name to variable \n",
    "target_file = open(os.path.join(target_folder,'target_file.txt'),'wb')"
   ]
  },
  {
   "cell_type": "code",
   "execution_count": null,
   "metadata": {
    "collapsed": true
   },
   "outputs": [],
   "source": [
    "# File to download, present on the server\n",
    "source_file = 'source_file.txt'"
   ]
  },
  {
   "cell_type": "code",
   "execution_count": null,
   "metadata": {
    "collapsed": true
   },
   "outputs": [],
   "source": [
    "# Download the file\n",
    "ftp.retrbinary('RETR ' + source_file, target_file.write)\n",
    "target_file.close()"
   ]
  },
  {
   "cell_type": "code",
   "execution_count": null,
   "metadata": {
    "collapsed": true
   },
   "outputs": [],
   "source": [
    "\"\"\"\n",
    "# ftp.nlst() returns a list of file names in the current working directory.\n",
    "# We then search for current week's date in this list\n",
    "for item in ftp.nlst():\n",
    "    if date_agree in item:\n",
    "        filename_agree = item\n",
    "\"\"\""
   ]
  }
 ],
 "metadata": {
  "kernelspec": {
   "display_name": "Python 3",
   "language": "python",
   "name": "python3"
  },
  "language_info": {
   "codemirror_mode": {
    "name": "ipython",
    "version": 3
   },
   "file_extension": ".py",
   "mimetype": "text/x-python",
   "name": "python",
   "nbconvert_exporter": "python",
   "pygments_lexer": "ipython3",
   "version": "3.6.2"
  }
 },
 "nbformat": 4,
 "nbformat_minor": 2
}
